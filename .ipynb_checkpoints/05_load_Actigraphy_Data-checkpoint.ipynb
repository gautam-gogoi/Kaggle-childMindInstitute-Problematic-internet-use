{
 "cells": [
  {
   "cell_type": "code",
   "execution_count": 1,
   "id": "2cd92f9a",
   "metadata": {},
   "outputs": [],
   "source": [
    "import numpy as np \n",
    "import pandas as pd \n"
   ]
  },
  {
   "cell_type": "code",
   "execution_count": 35,
   "id": "29535e8d",
   "metadata": {},
   "outputs": [
    {
     "name": "stdout",
     "output_type": "stream",
     "text": [
      "<class 'pandas.core.frame.DataFrame'>\n",
      "RangeIndex: 414384 entries, 0 to 414383\n",
      "Data columns (total 13 columns):\n",
      " #   Column               Non-Null Count   Dtype  \n",
      "---  ------               --------------   -----  \n",
      " 0   step                 414384 non-null  uint32 \n",
      " 1   X                    414384 non-null  float32\n",
      " 2   Y                    414384 non-null  float32\n",
      " 3   Z                    414384 non-null  float32\n",
      " 4   enmo                 414384 non-null  float32\n",
      " 5   anglez               414384 non-null  float32\n",
      " 6   non-wear_flag        414384 non-null  float32\n",
      " 7   light                414384 non-null  float32\n",
      " 8   battery_voltage      414384 non-null  float32\n",
      " 9   time_of_day          414384 non-null  int64  \n",
      " 10  weekday              414384 non-null  int8   \n",
      " 11  quarter              414384 non-null  int8   \n",
      " 12  relative_date_PCIAT  414384 non-null  float32\n",
      "dtypes: float32(9), int64(1), int8(2), uint32(1)\n",
      "memory usage: 19.8 MB\n"
     ]
    }
   ],
   "source": [
    "_id = '00f332d1'\n",
    "path = 'C:\\\\Users\\\\gogoig\\\\Kaggle\\\\child-mind-institute-problematic-internet-use\\\\series_train.parquet\\\\id='+ _id\n",
    "df = pd.read_parquet('C:\\\\Users\\\\gogoig\\\\Kaggle\\\\child-mind-institute-problematic-internet-use\\\\series_train.parquet\\\\id=00f332d1')\n",
    "df.info()"
   ]
  },
  {
   "cell_type": "code",
   "execution_count": 51,
   "id": "73238ff0",
   "metadata": {},
   "outputs": [],
   "source": [
    "def overall_vars(var_name, df_vars):\n",
    "    summary = pd.DataFrame(df[var_name].describe()).transpose()\n",
    "    summary.columns = var_name + \"_\" + summary.columns \n",
    "    summary.reset_index(drop=True, inplace=True)\n",
    "    return (pd.concat([df_vars, summary], axis=1))\n"
   ]
  },
  {
   "cell_type": "code",
   "execution_count": 50,
   "id": "6c1d0e88",
   "metadata": {},
   "outputs": [
    {
     "name": "stdout",
     "output_type": "stream",
     "text": [
      "X\n",
      "Y\n",
      "Z\n",
      "enmo\n",
      "anglez\n",
      "<class 'pandas.core.frame.DataFrame'>\n",
      "RangeIndex: 1 entries, 0 to 0\n",
      "Data columns (total 41 columns):\n",
      " #   Column        Non-Null Count  Dtype  \n",
      "---  ------        --------------  -----  \n",
      " 0   id            1 non-null      object \n",
      " 1   X_count       1 non-null      float64\n",
      " 2   X_mean        1 non-null      float64\n",
      " 3   X_std         1 non-null      float64\n",
      " 4   X_min         1 non-null      float64\n",
      " 5   X_25%         1 non-null      float64\n",
      " 6   X_50%         1 non-null      float64\n",
      " 7   X_75%         1 non-null      float64\n",
      " 8   X_max         1 non-null      float64\n",
      " 9   Y_count       1 non-null      float64\n",
      " 10  Y_mean        1 non-null      float64\n",
      " 11  Y_std         1 non-null      float64\n",
      " 12  Y_min         1 non-null      float64\n",
      " 13  Y_25%         1 non-null      float64\n",
      " 14  Y_50%         1 non-null      float64\n",
      " 15  Y_75%         1 non-null      float64\n",
      " 16  Y_max         1 non-null      float64\n",
      " 17  Z_count       1 non-null      float64\n",
      " 18  Z_mean        1 non-null      float64\n",
      " 19  Z_std         1 non-null      float64\n",
      " 20  Z_min         1 non-null      float64\n",
      " 21  Z_25%         1 non-null      float64\n",
      " 22  Z_50%         1 non-null      float64\n",
      " 23  Z_75%         1 non-null      float64\n",
      " 24  Z_max         1 non-null      float64\n",
      " 25  enmo_count    1 non-null      float64\n",
      " 26  enmo_mean     1 non-null      float64\n",
      " 27  enmo_std      1 non-null      float64\n",
      " 28  enmo_min      1 non-null      float64\n",
      " 29  enmo_25%      1 non-null      float64\n",
      " 30  enmo_50%      1 non-null      float64\n",
      " 31  enmo_75%      1 non-null      float64\n",
      " 32  enmo_max      1 non-null      float64\n",
      " 33  anglez_count  1 non-null      float64\n",
      " 34  anglez_mean   1 non-null      float64\n",
      " 35  anglez_std    1 non-null      float64\n",
      " 36  anglez_min    1 non-null      float64\n",
      " 37  anglez_25%    1 non-null      float64\n",
      " 38  anglez_50%    1 non-null      float64\n",
      " 39  anglez_75%    1 non-null      float64\n",
      " 40  anglez_max    1 non-null      float64\n",
      "dtypes: float64(40), object(1)\n",
      "memory usage: 456.0+ bytes\n"
     ]
    }
   ],
   "source": [
    "data = {'id': [_id] }\n",
    "df_output = pd.DataFrame(data)\n",
    "vars_for_overall = ['X', 'Y', 'Z', 'enmo', 'anglez']\n",
    "for i in vars_for_overall:\n",
    "    print(i)\n",
    "    df_output = overall_vars(i, df_output)\n",
    "\n",
    "df_output.info()"
   ]
  },
  {
   "cell_type": "code",
   "execution_count": 59,
   "id": "389ed691",
   "metadata": {},
   "outputs": [
    {
     "data": {
      "text/plain": [
       "0    345839\n",
       "1     68545\n",
       "Name: not_worn_flag_custom, dtype: int64"
      ]
     },
     "execution_count": 59,
     "metadata": {},
     "output_type": "execute_result"
    }
   ],
   "source": [
    "condlist=[df[\"non-wear_flag\"] ==1, df[\"non-wear_flag\"]==0 ]\n",
    "choicelist= [1,0]\n",
    "df[\"not_worn_flag_custom\"] = np.select(condlist,choicelist)\n",
    "df[\"not_worn_flag_custom\"].fillna(-999).value_counts()"
   ]
  },
  {
   "cell_type": "code",
   "execution_count": 60,
   "id": "a538cfef",
   "metadata": {},
   "outputs": [
    {
     "name": "stdout",
     "output_type": "stream",
     "text": [
      "count    414384.000000\n",
      "mean          0.171246\n",
      "std           0.374540\n",
      "min           0.000000\n",
      "25%           0.000000\n",
      "50%           0.000000\n",
      "75%           0.000000\n",
      "max           1.000000\n",
      "Name: non-wear_flag, dtype: float64\n",
      "count    414384.000000\n",
      "mean          0.165414\n",
      "std           0.371554\n",
      "min           0.000000\n",
      "25%           0.000000\n",
      "50%           0.000000\n",
      "75%           0.000000\n",
      "max           1.000000\n",
      "Name: not_worn_flag_custom, dtype: float64\n"
     ]
    }
   ],
   "source": [
    "print(df[\"non-wear_flag\"].describe())\n",
    "print(df[\"not_worn_flag_custom\"].describe())\n"
   ]
  }
 ],
 "metadata": {
  "kernelspec": {
   "display_name": "Python 3 (ipykernel)",
   "language": "python",
   "name": "python3"
  },
  "language_info": {
   "codemirror_mode": {
    "name": "ipython",
    "version": 3
   },
   "file_extension": ".py",
   "mimetype": "text/x-python",
   "name": "python",
   "nbconvert_exporter": "python",
   "pygments_lexer": "ipython3",
   "version": "3.9.13"
  }
 },
 "nbformat": 4,
 "nbformat_minor": 5
}
